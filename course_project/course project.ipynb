{
 "cells": [
  {
   "cell_type": "markdown",
   "metadata": {},
   "source": [
    "    Начитавшись моих отднокашников в чате, решил попробовать совсем другой подход. сделать SVD разложение - тогда мы не боимся Nan и большое количество признаков тоже не проблема.\n",
    "    То есть теперь нам важно наоборот не терять NaN, особенно при переходе в dummy-переменные. Еще момент - так как прогнозы считаем по Nan можно сразу объединить оба датасета"
   ]
  },
  {
   "cell_type": "code",
   "execution_count": 2,
   "metadata": {},
   "outputs": [],
   "source": [
    "import numpy as np\n",
    "import pandas as pd\n",
    "\n",
    "import matplotlib.pyplot as plt\n",
    "import seaborn as sns\n",
    "%matplotlib inline"
   ]
  },
  {
   "cell_type": "code",
   "execution_count": 2,
   "metadata": {},
   "outputs": [],
   "source": [
    "df = pd.read_csv('course_project_train.csv', sep=',', encoding='utf-8', decimal='.')"
   ]
  },
  {
   "cell_type": "code",
   "execution_count": 3,
   "metadata": {},
   "outputs": [],
   "source": [
    "df2 = pd.read_csv('course_project_test.csv', sep=',', encoding='utf-8', decimal='.')"
   ]
  },
  {
   "cell_type": "code",
   "execution_count": 4,
   "metadata": {},
   "outputs": [],
   "source": [
    "df = pd.concat([df, df2])"
   ]
  },
  {
   "cell_type": "code",
   "execution_count": 5,
   "metadata": {},
   "outputs": [
    {
     "data": {
      "text/html": [
       "<div>\n",
       "<style scoped>\n",
       "    .dataframe tbody tr th:only-of-type {\n",
       "        vertical-align: middle;\n",
       "    }\n",
       "\n",
       "    .dataframe tbody tr th {\n",
       "        vertical-align: top;\n",
       "    }\n",
       "\n",
       "    .dataframe thead th {\n",
       "        text-align: right;\n",
       "    }\n",
       "</style>\n",
       "<table border=\"1\" class=\"dataframe\">\n",
       "  <thead>\n",
       "    <tr style=\"text-align: right;\">\n",
       "      <th></th>\n",
       "      <th>Annual Income</th>\n",
       "      <th>Tax Liens</th>\n",
       "      <th>Number of Open Accounts</th>\n",
       "      <th>Years of Credit History</th>\n",
       "      <th>Maximum Open Credit</th>\n",
       "      <th>Number of Credit Problems</th>\n",
       "      <th>Months since last delinquent</th>\n",
       "      <th>Bankruptcies</th>\n",
       "      <th>Current Loan Amount</th>\n",
       "      <th>Current Credit Balance</th>\n",
       "      <th>Monthly Debt</th>\n",
       "      <th>Credit Score</th>\n",
       "      <th>Credit Default</th>\n",
       "    </tr>\n",
       "  </thead>\n",
       "  <tbody>\n",
       "    <tr>\n",
       "      <th>count</th>\n",
       "      <td>7.930000e+03</td>\n",
       "      <td>10000.000000</td>\n",
       "      <td>10000.00000</td>\n",
       "      <td>10000.000000</td>\n",
       "      <td>1.000000e+04</td>\n",
       "      <td>10000.00000</td>\n",
       "      <td>4561.000000</td>\n",
       "      <td>9983.000000</td>\n",
       "      <td>1.000000e+04</td>\n",
       "      <td>1.000000e+04</td>\n",
       "      <td>10000.000000</td>\n",
       "      <td>7930.000000</td>\n",
       "      <td>7500.000000</td>\n",
       "    </tr>\n",
       "    <tr>\n",
       "      <th>mean</th>\n",
       "      <td>1.366525e+06</td>\n",
       "      <td>0.031400</td>\n",
       "      <td>11.14430</td>\n",
       "      <td>18.319580</td>\n",
       "      <td>8.865079e+05</td>\n",
       "      <td>0.16800</td>\n",
       "      <td>34.564569</td>\n",
       "      <td>0.114595</td>\n",
       "      <td>1.194381e+07</td>\n",
       "      <td>2.914741e+05</td>\n",
       "      <td>18303.675600</td>\n",
       "      <td>1171.992182</td>\n",
       "      <td>0.281733</td>\n",
       "    </tr>\n",
       "    <tr>\n",
       "      <th>std</th>\n",
       "      <td>8.638276e+05</td>\n",
       "      <td>0.304341</td>\n",
       "      <td>4.89476</td>\n",
       "      <td>7.095357</td>\n",
       "      <td>1.389982e+07</td>\n",
       "      <td>0.51459</td>\n",
       "      <td>21.771990</td>\n",
       "      <td>0.349729</td>\n",
       "      <td>3.200878e+07</td>\n",
       "      <td>3.339979e+05</td>\n",
       "      <td>11831.647516</td>\n",
       "      <td>1639.812951</td>\n",
       "      <td>0.449874</td>\n",
       "    </tr>\n",
       "    <tr>\n",
       "      <th>min</th>\n",
       "      <td>1.065330e+05</td>\n",
       "      <td>0.000000</td>\n",
       "      <td>1.00000</td>\n",
       "      <td>3.900000</td>\n",
       "      <td>0.000000e+00</td>\n",
       "      <td>0.00000</td>\n",
       "      <td>0.000000</td>\n",
       "      <td>0.000000</td>\n",
       "      <td>1.124200e+04</td>\n",
       "      <td>0.000000e+00</td>\n",
       "      <td>0.000000</td>\n",
       "      <td>585.000000</td>\n",
       "      <td>0.000000</td>\n",
       "    </tr>\n",
       "    <tr>\n",
       "      <th>25%</th>\n",
       "      <td>8.459892e+05</td>\n",
       "      <td>0.000000</td>\n",
       "      <td>8.00000</td>\n",
       "      <td>13.500000</td>\n",
       "      <td>2.788115e+05</td>\n",
       "      <td>0.00000</td>\n",
       "      <td>16.000000</td>\n",
       "      <td>0.000000</td>\n",
       "      <td>1.805485e+05</td>\n",
       "      <td>1.132258e+05</td>\n",
       "      <td>10059.750000</td>\n",
       "      <td>711.000000</td>\n",
       "      <td>0.000000</td>\n",
       "    </tr>\n",
       "    <tr>\n",
       "      <th>50%</th>\n",
       "      <td>1.168814e+06</td>\n",
       "      <td>0.000000</td>\n",
       "      <td>10.00000</td>\n",
       "      <td>17.000000</td>\n",
       "      <td>4.781810e+05</td>\n",
       "      <td>0.00000</td>\n",
       "      <td>32.000000</td>\n",
       "      <td>0.000000</td>\n",
       "      <td>3.117180e+05</td>\n",
       "      <td>2.090190e+05</td>\n",
       "      <td>16200.000000</td>\n",
       "      <td>731.000000</td>\n",
       "      <td>0.000000</td>\n",
       "    </tr>\n",
       "    <tr>\n",
       "      <th>75%</th>\n",
       "      <td>1.638693e+06</td>\n",
       "      <td>0.000000</td>\n",
       "      <td>14.00000</td>\n",
       "      <td>22.000000</td>\n",
       "      <td>7.943595e+05</td>\n",
       "      <td>0.00000</td>\n",
       "      <td>50.000000</td>\n",
       "      <td>0.000000</td>\n",
       "      <td>5.210700e+05</td>\n",
       "      <td>3.619500e+05</td>\n",
       "      <td>23888.250000</td>\n",
       "      <td>743.000000</td>\n",
       "      <td>1.000000</td>\n",
       "    </tr>\n",
       "    <tr>\n",
       "      <th>max</th>\n",
       "      <td>1.497561e+07</td>\n",
       "      <td>15.000000</td>\n",
       "      <td>48.00000</td>\n",
       "      <td>57.700000</td>\n",
       "      <td>1.304726e+09</td>\n",
       "      <td>15.00000</td>\n",
       "      <td>118.000000</td>\n",
       "      <td>5.000000</td>\n",
       "      <td>1.000000e+08</td>\n",
       "      <td>6.506797e+06</td>\n",
       "      <td>136679.000000</td>\n",
       "      <td>7510.000000</td>\n",
       "      <td>1.000000</td>\n",
       "    </tr>\n",
       "  </tbody>\n",
       "</table>\n",
       "</div>"
      ],
      "text/plain": [
       "       Annual Income     Tax Liens  Number of Open Accounts  \\\n",
       "count   7.930000e+03  10000.000000              10000.00000   \n",
       "mean    1.366525e+06      0.031400                 11.14430   \n",
       "std     8.638276e+05      0.304341                  4.89476   \n",
       "min     1.065330e+05      0.000000                  1.00000   \n",
       "25%     8.459892e+05      0.000000                  8.00000   \n",
       "50%     1.168814e+06      0.000000                 10.00000   \n",
       "75%     1.638693e+06      0.000000                 14.00000   \n",
       "max     1.497561e+07     15.000000                 48.00000   \n",
       "\n",
       "       Years of Credit History  Maximum Open Credit  \\\n",
       "count             10000.000000         1.000000e+04   \n",
       "mean                 18.319580         8.865079e+05   \n",
       "std                   7.095357         1.389982e+07   \n",
       "min                   3.900000         0.000000e+00   \n",
       "25%                  13.500000         2.788115e+05   \n",
       "50%                  17.000000         4.781810e+05   \n",
       "75%                  22.000000         7.943595e+05   \n",
       "max                  57.700000         1.304726e+09   \n",
       "\n",
       "       Number of Credit Problems  Months since last delinquent  Bankruptcies  \\\n",
       "count                10000.00000                   4561.000000   9983.000000   \n",
       "mean                     0.16800                     34.564569      0.114595   \n",
       "std                      0.51459                     21.771990      0.349729   \n",
       "min                      0.00000                      0.000000      0.000000   \n",
       "25%                      0.00000                     16.000000      0.000000   \n",
       "50%                      0.00000                     32.000000      0.000000   \n",
       "75%                      0.00000                     50.000000      0.000000   \n",
       "max                     15.00000                    118.000000      5.000000   \n",
       "\n",
       "       Current Loan Amount  Current Credit Balance   Monthly Debt  \\\n",
       "count         1.000000e+04            1.000000e+04   10000.000000   \n",
       "mean          1.194381e+07            2.914741e+05   18303.675600   \n",
       "std           3.200878e+07            3.339979e+05   11831.647516   \n",
       "min           1.124200e+04            0.000000e+00       0.000000   \n",
       "25%           1.805485e+05            1.132258e+05   10059.750000   \n",
       "50%           3.117180e+05            2.090190e+05   16200.000000   \n",
       "75%           5.210700e+05            3.619500e+05   23888.250000   \n",
       "max           1.000000e+08            6.506797e+06  136679.000000   \n",
       "\n",
       "       Credit Score  Credit Default  \n",
       "count   7930.000000     7500.000000  \n",
       "mean    1171.992182        0.281733  \n",
       "std     1639.812951        0.449874  \n",
       "min      585.000000        0.000000  \n",
       "25%      711.000000        0.000000  \n",
       "50%      731.000000        0.000000  \n",
       "75%      743.000000        1.000000  \n",
       "max     7510.000000        1.000000  "
      ]
     },
     "execution_count": 5,
     "metadata": {},
     "output_type": "execute_result"
    }
   ],
   "source": [
    "df.describe()"
   ]
  },
  {
   "cell_type": "code",
   "execution_count": 6,
   "metadata": {
    "scrolled": false
   },
   "outputs": [
    {
     "name": "stdout",
     "output_type": "stream",
     "text": [
      "<class 'pandas.core.frame.DataFrame'>\n",
      "Int64Index: 10000 entries, 0 to 2499\n",
      "Data columns (total 17 columns):\n",
      " #   Column                        Non-Null Count  Dtype  \n",
      "---  ------                        --------------  -----  \n",
      " 0   Home Ownership                10000 non-null  object \n",
      " 1   Annual Income                 7930 non-null   float64\n",
      " 2   Years in current job          9543 non-null   object \n",
      " 3   Tax Liens                     10000 non-null  float64\n",
      " 4   Number of Open Accounts       10000 non-null  float64\n",
      " 5   Years of Credit History       10000 non-null  float64\n",
      " 6   Maximum Open Credit           10000 non-null  float64\n",
      " 7   Number of Credit Problems     10000 non-null  float64\n",
      " 8   Months since last delinquent  4561 non-null   float64\n",
      " 9   Bankruptcies                  9983 non-null   float64\n",
      " 10  Purpose                       10000 non-null  object \n",
      " 11  Term                          10000 non-null  object \n",
      " 12  Current Loan Amount           10000 non-null  float64\n",
      " 13  Current Credit Balance        10000 non-null  float64\n",
      " 14  Monthly Debt                  10000 non-null  float64\n",
      " 15  Credit Score                  7930 non-null   float64\n",
      " 16  Credit Default                7500 non-null   float64\n",
      "dtypes: float64(13), object(4)\n",
      "memory usage: 1.4+ MB\n"
     ]
    }
   ],
   "source": [
    "df.info()"
   ]
  },
  {
   "cell_type": "code",
   "execution_count": 7,
   "metadata": {},
   "outputs": [],
   "source": [
    "df = pd.concat([df, pd.get_dummies(df['Home Ownership'])], axis=1)\n",
    "\n",
    "df.drop(columns='Home Ownership', axis=0, inplace=True)"
   ]
  },
  {
   "cell_type": "code",
   "execution_count": 8,
   "metadata": {},
   "outputs": [
    {
     "name": "stderr",
     "output_type": "stream",
     "text": [
      "/Users/leonidkashin/opt/anaconda3/lib/python3.7/site-packages/pandas/core/indexing.py:671: SettingWithCopyWarning: \n",
      "A value is trying to be set on a copy of a slice from a DataFrame\n",
      "\n",
      "See the caveats in the documentation: https://pandas.pydata.org/pandas-docs/stable/user_guide/indexing.html#returning-a-view-versus-a-copy\n",
      "  self._setitem_with_indexer(indexer, value)\n"
     ]
    }
   ],
   "source": [
    "df['Years in current job'].loc[df['Years in current job'].isnull()] = 'Years job NAN'"
   ]
  },
  {
   "cell_type": "code",
   "execution_count": 9,
   "metadata": {},
   "outputs": [],
   "source": [
    "df = pd.concat([df, pd.get_dummies(df['Years in current job'])], axis=1)\n",
    "\n",
    "df.drop(columns='Years in current job', axis=0, inplace=True)"
   ]
  },
  {
   "cell_type": "code",
   "execution_count": 10,
   "metadata": {},
   "outputs": [],
   "source": [
    "columns_years = ['1 year','10+ years','2 years','3 years','4 years','5 years','6 years','7 years','8 years','9 years','< 1 year']"
   ]
  },
  {
   "cell_type": "code",
   "execution_count": 11,
   "metadata": {},
   "outputs": [],
   "source": [
    "for colu in columns_years:\n",
    "    df[colu].loc[df['Years job NAN'] == 1] = np.nan"
   ]
  },
  {
   "cell_type": "code",
   "execution_count": 12,
   "metadata": {},
   "outputs": [],
   "source": [
    "df.drop(columns='Years job NAN', axis=0, inplace=True)"
   ]
  },
  {
   "cell_type": "code",
   "execution_count": 13,
   "metadata": {},
   "outputs": [],
   "source": [
    "df = pd.concat([df, pd.get_dummies(df['Tax Liens'])], axis=1)\n",
    "\n",
    "df.drop(columns='Tax Liens', axis=0, inplace=True)"
   ]
  },
  {
   "cell_type": "code",
   "execution_count": 14,
   "metadata": {},
   "outputs": [],
   "source": [
    "df['Months since last delinquent'].loc[df['Months since last delinquent'] == 0] = np.nan"
   ]
  },
  {
   "cell_type": "code",
   "execution_count": 15,
   "metadata": {},
   "outputs": [],
   "source": [
    "df['Months since last delinquent'].loc[df['Months since last delinquent'] < 11] = 301"
   ]
  },
  {
   "cell_type": "code",
   "execution_count": 16,
   "metadata": {},
   "outputs": [],
   "source": [
    "df['Months since last delinquent'].loc[df['Months since last delinquent'] < 51] = 302"
   ]
  },
  {
   "cell_type": "code",
   "execution_count": 17,
   "metadata": {},
   "outputs": [],
   "source": [
    "df['Months since last delinquent'].loc[df['Months since last delinquent'] < 101] = 303"
   ]
  },
  {
   "cell_type": "code",
   "execution_count": 18,
   "metadata": {},
   "outputs": [],
   "source": [
    "df['Months since last delinquent'].loc[df['Months since last delinquent'] < 200] = 304"
   ]
  },
  {
   "cell_type": "code",
   "execution_count": 19,
   "metadata": {},
   "outputs": [],
   "source": [
    "df['Months since last delinquent'].loc[df['Months since last delinquent'].isnull()] = 'Months NAN'"
   ]
  },
  {
   "cell_type": "code",
   "execution_count": 20,
   "metadata": {},
   "outputs": [],
   "source": [
    "df = pd.concat([df, pd.get_dummies(df['Months since last delinquent'])], axis=1)"
   ]
  },
  {
   "cell_type": "code",
   "execution_count": 21,
   "metadata": {},
   "outputs": [],
   "source": [
    "df.drop(columns='Months since last delinquent', axis=0, inplace=True)"
   ]
  },
  {
   "cell_type": "code",
   "execution_count": 22,
   "metadata": {},
   "outputs": [],
   "source": [
    "columns_years = [301.0, 302.0, 303.0, 304.0]\n",
    "\n",
    "for colu in columns_years:\n",
    "    df[colu].loc[df['Months NAN'] == 1] = np.nan"
   ]
  },
  {
   "cell_type": "code",
   "execution_count": 23,
   "metadata": {},
   "outputs": [],
   "source": [
    "df.drop(columns='Months NAN', axis=0, inplace=True)"
   ]
  },
  {
   "cell_type": "code",
   "execution_count": 24,
   "metadata": {},
   "outputs": [],
   "source": [
    "df = pd.concat([df, pd.get_dummies(df['Purpose'])], axis=1)\n",
    "df.drop(columns='Purpose', axis=0, inplace=True)\n",
    "df = pd.concat([df, pd.get_dummies(df['Term'])], axis=1)\n",
    "df.drop(columns='Term', axis=0, inplace=True)"
   ]
  },
  {
   "cell_type": "code",
   "execution_count": 25,
   "metadata": {},
   "outputs": [],
   "source": [
    "from sklearn.preprocessing import StandardScaler, MinMaxScaler\n",
    "from sklearn.model_selection import train_test_split, ShuffleSplit, cross_val_score, learning_curve"
   ]
  },
  {
   "cell_type": "code",
   "execution_count": 26,
   "metadata": {},
   "outputs": [],
   "source": [
    "SCALER_NAMES = ['Annual Income',\n",
    "                'Number of Open Accounts',\n",
    "                'Years of Credit History',\n",
    "                'Maximum Open Credit',\n",
    "                'Number of Credit Problems',\n",
    "                'Bankruptcies',\n",
    "                'Current Loan Amount',\n",
    "                'Current Credit Balance',\n",
    "                'Monthly Debt',\n",
    "                'Credit Score']"
   ]
  },
  {
   "cell_type": "code",
   "execution_count": 27,
   "metadata": {},
   "outputs": [],
   "source": [
    "scaler = MinMaxScaler()\n",
    "\n",
    "df[SCALER_NAMES] = scaler.fit_transform(df[SCALER_NAMES])"
   ]
  },
  {
   "cell_type": "code",
   "execution_count": 237,
   "metadata": {},
   "outputs": [
    {
     "data": {
      "image/png": "[encoded data removed]",
      "text/plain": [
       "<Figure size 1440x1080 with 2 Axes>"
      ]
     },
     "metadata": {},
     "output_type": "display_data"
    }
   ],
   "source": [
    "plt.figure(figsize = (20,15))\n",
    "\n",
    "sns.set(font_scale=1.4)\n",
    "sns.heatmap(df.corr(), annot=False, linewidths=.5, cmap='GnBu')\n",
    "\n",
    "plt.title('Correlation matrix')\n",
    "plt.show()"
   ]
  },
  {
   "cell_type": "markdown",
   "metadata": {},
   "source": [
    "у меня не получилось построить свое разложение, и я воспользовался готовым FunkSVD, там правда метод принимает данные в специфичном виде. https://github.com/gbolmier/funk-svd"
   ]
  },
  {
   "cell_type": "code",
   "execution_count": 28,
   "metadata": {},
   "outputs": [],
   "source": [
    "df_linear = pd.DataFrame(columns = ['u_id', 'i_id', 'rating'])"
   ]
  },
  {
   "cell_type": "code",
   "execution_count": 29,
   "metadata": {
    "collapsed": true
   },
   "outputs": [
    {
     "name": "stdout",
     "output_type": "stream",
     "text": [
      "1400\n",
      "2800\n",
      "4200\n",
      "5600\n",
      "7000\n",
      "8400\n",
      "9800\n",
      "11200\n",
      "12600\n",
      "14000\n",
      "15400\n",
      "16800\n",
      "18200\n",
      "19600\n",
      "21000\n",
      "22400\n",
      "23800\n",
      "25200\n",
      "26600\n",
      "28000\n",
      "29400\n",
      "30800\n",
      "32200\n",
      "33600\n",
      "35000\n",
      "36400\n",
      "37800\n",
      "39200\n",
      "40600\n",
      "42000\n",
      "43400\n",
      "44800\n",
      "46200\n",
      "47600\n",
      "49000\n",
      "50400\n",
      "51800\n",
      "53200\n",
      "54600\n",
      "56000\n",
      "57400\n",
      "58800\n",
      "60200\n",
      "61600\n",
      "63000\n",
      "64400\n",
      "65800\n",
      "67200\n",
      "68600\n",
      "70000\n",
      "71400\n",
      "72800\n",
      "74200\n",
      "75600\n",
      "77000\n",
      "78400\n",
      "79800\n",
      "81200\n",
      "82600\n",
      "84000\n",
      "85400\n",
      "86800\n",
      "88200\n",
      "89600\n",
      "91000\n",
      "92400\n",
      "93800\n",
      "95200\n",
      "96600\n",
      "98000\n",
      "99400\n",
      "100800\n",
      "102200\n",
      "103600\n",
      "105000\n",
      "106400\n",
      "107800\n",
      "109200\n",
      "110600\n",
      "112000\n",
      "113400\n",
      "114800\n",
      "116200\n",
      "117600\n",
      "119000\n",
      "120400\n",
      "121800\n",
      "123200\n",
      "124600\n",
      "126000\n",
      "127400\n",
      "128800\n",
      "130200\n",
      "131600\n",
      "133000\n",
      "134400\n",
      "135800\n",
      "137200\n",
      "138600\n",
      "140000\n",
      "141400\n",
      "142800\n",
      "144200\n",
      "145600\n",
      "147000\n",
      "148400\n",
      "149800\n",
      "151200\n",
      "152600\n",
      "154000\n",
      "155400\n",
      "156800\n",
      "158200\n",
      "159600\n",
      "161000\n",
      "162400\n",
      "163800\n",
      "165200\n",
      "166600\n",
      "168000\n",
      "169400\n",
      "170800\n",
      "172200\n",
      "173600\n",
      "175000\n",
      "176400\n",
      "177800\n",
      "179200\n",
      "180600\n",
      "182000\n",
      "183400\n",
      "184800\n",
      "186200\n",
      "187600\n",
      "189000\n",
      "190400\n",
      "191800\n",
      "193200\n",
      "194600\n",
      "196000\n",
      "197400\n",
      "198800\n",
      "200200\n",
      "201600\n",
      "203000\n",
      "204400\n",
      "205800\n",
      "207200\n",
      "208600\n",
      "210000\n",
      "211400\n",
      "212800\n",
      "214200\n",
      "215600\n",
      "217000\n",
      "218400\n",
      "219800\n",
      "221200\n",
      "222600\n",
      "224000\n",
      "225400\n",
      "226800\n",
      "228200\n",
      "229600\n",
      "231000\n",
      "232400\n",
      "233800\n",
      "235200\n",
      "236600\n",
      "238000\n",
      "239400\n",
      "240800\n",
      "242200\n",
      "243600\n",
      "245000\n",
      "246400\n",
      "247800\n",
      "249200\n",
      "250600\n",
      "252000\n",
      "253400\n",
      "254800\n",
      "256200\n",
      "257600\n",
      "259000\n",
      "260400\n",
      "261800\n",
      "263200\n",
      "264600\n",
      "266000\n",
      "267400\n",
      "268800\n",
      "270200\n",
      "271600\n",
      "273000\n",
      "274400\n",
      "275800\n",
      "277200\n",
      "278600\n",
      "280000\n",
      "281400\n",
      "282800\n",
      "284200\n",
      "285600\n",
      "287000\n",
      "288400\n",
      "289800\n",
      "291200\n",
      "292600\n",
      "294000\n",
      "295400\n",
      "296800\n",
      "298200\n",
      "299600\n",
      "301000\n",
      "302400\n",
      "303800\n",
      "305200\n",
      "306600\n",
      "308000\n",
      "309400\n",
      "310800\n",
      "312200\n",
      "313600\n",
      "315000\n",
      "316400\n",
      "317800\n",
      "319200\n",
      "320600\n",
      "322000\n",
      "323400\n",
      "324800\n",
      "326200\n",
      "327600\n",
      "329000\n",
      "330400\n",
      "331800\n",
      "333200\n",
      "334600\n",
      "336000\n",
      "337400\n",
      "338800\n",
      "340200\n",
      "341600\n",
      "343000\n",
      "344400\n",
      "345800\n",
      "347200\n",
      "348600\n",
      "350000\n",
      "351400\n",
      "352800\n",
      "354200\n",
      "355600\n",
      "357000\n",
      "358400\n",
      "359800\n",
      "361200\n",
      "362600\n",
      "364000\n",
      "365400\n",
      "366800\n",
      "368200\n",
      "369600\n",
      "371000\n",
      "372400\n",
      "373800\n",
      "375200\n",
      "376600\n",
      "378000\n",
      "379400\n",
      "380800\n",
      "382200\n",
      "383600\n",
      "385000\n",
      "386400\n",
      "387800\n",
      "389200\n",
      "390600\n",
      "392000\n",
      "393400\n",
      "394800\n",
      "396200\n",
      "397600\n",
      "399000\n",
      "400400\n",
      "401800\n",
      "403200\n",
      "404600\n",
      "406000\n",
      "407400\n",
      "408800\n",
      "410200\n",
      "411600\n",
      "413000\n",
      "414400\n",
      "415800\n",
      "417200\n",
      "418600\n",
      "420000\n",
      "421400\n",
      "422800\n",
      "424200\n",
      "425600\n",
      "427000\n",
      "428400\n",
      "429800\n",
      "431200\n",
      "432600\n",
      "434000\n",
      "435400\n",
      "436800\n",
      "438200\n",
      "439600\n",
      "441000\n",
      "442400\n",
      "443800\n",
      "445200\n",
      "446600\n",
      "448000\n",
      "449400\n",
      "450800\n",
      "452200\n",
      "453600\n",
      "455000\n",
      "456400\n",
      "457800\n",
      "459200\n",
      "460600\n",
      "462000\n",
      "463400\n",
      "464800\n",
      "466200\n",
      "467600\n",
      "469000\n",
      "470400\n",
      "471800\n",
      "473200\n",
      "474600\n",
      "476000\n",
      "477400\n",
      "478800\n",
      "480200\n",
      "481600\n",
      "483000\n",
      "484400\n",
      "485800\n",
      "487200\n",
      "488600\n",
      "490000\n",
      "491400\n",
      "492800\n",
      "494200\n",
      "495600\n",
      "497000\n",
      "498400\n",
      "499800\n",
      "501200\n",
      "502600\n",
      "504000\n",
      "505400\n",
      "506800\n",
      "508200\n",
      "509600\n",
      "511000\n",
      "512400\n",
      "513800\n",
      "515200\n",
      "516600\n",
      "518000\n",
      "519400\n",
      "520800\n",
      "522200\n",
      "523600\n",
      "525000\n",
      "526400\n",
      "527800\n",
      "529200\n",
      "530600\n",
      "532000\n",
      "533400\n",
      "534800\n",
      "536200\n",
      "537600\n",
      "539000\n",
      "540400\n",
      "541800\n",
      "543200\n",
      "544600\n",
      "546000\n",
      "547400\n",
      "548800\n",
      "550200\n",
      "551600\n",
      "553000\n",
      "554400\n",
      "555800\n",
      "557200\n",
      "558600\n",
      "560000\n"
     ]
    }
   ],
   "source": [
    "index = 0\n",
    "for i in range(0, 10000):\n",
    "    for j in range(0, 56):\n",
    "        df_linear.loc[index] = [i, j, df.iloc[i,j]]\n",
    "        index += 1\n",
    "#         print(i, j, df.iloc[i, j])\n",
    "#         if j > 3:\n",
    "#             break\n",
    "    if index%10000 == 0:\n",
    "        print(index)"
   ]
  },
  {
   "cell_type": "markdown",
   "metadata": {},
   "source": [
    "замечаем, что целевая переменная в колонке с индексом 10 (если начинаем с 0)"
   ]
  },
  {
   "cell_type": "code",
   "execution_count": 35,
   "metadata": {},
   "outputs": [],
   "source": [
    "df_linear.to_csv('prep_dataset.csv', index=False, encoding='utf-8')"
   ]
  },
  {
   "cell_type": "code",
   "execution_count": 3,
   "metadata": {},
   "outputs": [],
   "source": [
    "df_linear = pd.read_csv('prep_dataset.csv', sep=',', encoding='utf-8', decimal='.')"
   ]
  },
  {
   "cell_type": "code",
   "execution_count": 4,
   "metadata": {
    "scrolled": true
   },
   "outputs": [],
   "source": [
    "df = df_linear.dropna()"
   ]
  },
  {
   "cell_type": "code",
   "execution_count": 5,
   "metadata": {},
   "outputs": [
    {
     "name": "stderr",
     "output_type": "stream",
     "text": [
      "/Users/leonidkashin/opt/anaconda3/lib/python3.7/site-packages/ipykernel_launcher.py:1: SettingWithCopyWarning: \n",
      "A value is trying to be set on a copy of a slice from a DataFrame.\n",
      "Try using .loc[row_indexer,col_indexer] = value instead\n",
      "\n",
      "See the caveats in the documentation: https://pandas.pydata.org/pandas-docs/stable/user_guide/indexing.html#returning-a-view-versus-a-copy\n",
      "  \"\"\"Entry point for launching an IPython kernel.\n",
      "/Users/leonidkashin/opt/anaconda3/lib/python3.7/site-packages/ipykernel_launcher.py:2: SettingWithCopyWarning: \n",
      "A value is trying to be set on a copy of a slice from a DataFrame.\n",
      "Try using .loc[row_indexer,col_indexer] = value instead\n",
      "\n",
      "See the caveats in the documentation: https://pandas.pydata.org/pandas-docs/stable/user_guide/indexing.html#returning-a-view-versus-a-copy\n",
      "  \n"
     ]
    }
   ],
   "source": [
    "df['u_id'] = df['u_id'].astype('int64')\n",
    "df['i_id'] = df['i_id'].astype('int64')"
   ]
  },
  {
   "cell_type": "code",
   "execution_count": 6,
   "metadata": {},
   "outputs": [],
   "source": [
    "from funk_svd import SVD\n",
    "from sklearn.metrics import mean_absolute_error"
   ]
  },
  {
   "cell_type": "code",
   "execution_count": 7,
   "metadata": {},
   "outputs": [],
   "source": [
    "# После index tolist - лишний\n",
    "train = df.sample(frac=0.8, random_state=7)\n",
    "val = df.drop(train.index).sample(frac=0.5, random_state=8)\n",
    "test = df.drop(train.index).drop(val.index)"
   ]
  },
  {
   "cell_type": "code",
   "execution_count": 8,
   "metadata": {},
   "outputs": [],
   "source": [
    "svd = SVD(learning_rate=0.001, regularization=0.005, n_epochs=200,\n",
    "          n_factors=50, min_rating=0.0000001, max_rating=1)"
   ]
  },
  {
   "cell_type": "code",
   "execution_count": 9,
   "metadata": {},
   "outputs": [
    {
     "name": "stdout",
     "output_type": "stream",
     "text": [
      "Preprocessing data...\n",
      "\n",
      "Epoch 1/200  | val_loss: 0.06 - val_rmse: 0.24 - val_mae: 0.13 - took 0.7 sec\n",
      "Epoch 2/200  | val_loss: 0.06 - val_rmse: 0.24 - val_mae: 0.13 - took 0.0 sec\n",
      "Epoch 3/200  | val_loss: 0.05 - val_rmse: 0.23 - val_mae: 0.13 - took 0.0 sec\n",
      "Epoch 4/200  | val_loss: 0.05 - val_rmse: 0.23 - val_mae: 0.13 - took 0.0 sec\n",
      "\n",
      "Training took 1 sec\n"
     ]
    },
    {
     "data": {
      "text/plain": [
       "<funk_svd.svd.SVD at 0x7f990f505110>"
      ]
     },
     "execution_count": 9,
     "metadata": {},
     "output_type": "execute_result"
    }
   ],
   "source": [
    "svd.fit(X=train, X_val=val, early_stopping=True, shuffle=False)"
   ]
  },
  {
   "cell_type": "code",
   "execution_count": 10,
   "metadata": {},
   "outputs": [],
   "source": [
    "pred = svd.predict(test[['u_id', 'i_id']])"
   ]
  },
  {
   "cell_type": "code",
   "execution_count": 11,
   "metadata": {},
   "outputs": [
    {
     "name": "stdout",
     "output_type": "stream",
     "text": [
      "Test MAE: 0.1182\n"
     ]
    }
   ],
   "source": [
    "mae = mean_absolute_error(test[\"rating\"], pred)\n",
    "\n",
    "print('Test MAE: {:.4f}'.format(mae))"
   ]
  },
  {
   "cell_type": "markdown",
   "metadata": {},
   "source": [
    "\n",
    "Делаем табличку для запроса предикта"
   ]
  },
  {
   "cell_type": "code",
   "execution_count": 13,
   "metadata": {},
   "outputs": [],
   "source": [
    "tester = pd.DataFrame(columns = ['u_id', 'i_id'])"
   ]
  },
  {
   "cell_type": "code",
   "execution_count": 14,
   "metadata": {},
   "outputs": [
    {
     "name": "stdout",
     "output_type": "stream",
     "text": [
      "100\n",
      "200\n",
      "300\n",
      "400\n",
      "500\n",
      "600\n",
      "700\n",
      "800\n",
      "900\n",
      "1000\n",
      "1100\n",
      "1200\n",
      "1300\n",
      "1400\n",
      "1500\n",
      "1600\n",
      "1700\n",
      "1800\n",
      "1900\n",
      "2000\n",
      "2100\n",
      "2200\n",
      "2300\n",
      "2400\n",
      "2500\n"
     ]
    }
   ],
   "source": [
    "index = 0\n",
    "for i in range(7500, 10000):\n",
    "    tester.loc[index] = [i, 10]\n",
    "    index += 1\n",
    "#         print(i, j, df.iloc[i, j])\n",
    "#         if j > 3:\n",
    "#             break\n",
    "    if index%100 == 0:\n",
    "        print(index)"
   ]
  },
  {
   "cell_type": "code",
   "execution_count": 15,
   "metadata": {},
   "outputs": [],
   "source": [
    "pred_fine = svd.predict(tester[['u_id', 'i_id']])"
   ]
  },
  {
   "cell_type": "code",
   "execution_count": 16,
   "metadata": {},
   "outputs": [],
   "source": [
    "pred_fine = pd.DataFrame(pred_fine)"
   ]
  },
  {
   "cell_type": "code",
   "execution_count": 17,
   "metadata": {},
   "outputs": [],
   "source": [
    "pred_fine[0].loc[pred_fine[0] > 0.23] = 1"
   ]
  },
  {
   "cell_type": "code",
   "execution_count": 18,
   "metadata": {},
   "outputs": [],
   "source": [
    "pred_fine[0].loc[pred_fine[0] < 0.24] = 0"
   ]
  },
  {
   "cell_type": "code",
   "execution_count": 19,
   "metadata": {
    "scrolled": false
   },
   "outputs": [],
   "source": [
    "pred_fine = pred_fine.astype(int)"
   ]
  },
  {
   "cell_type": "code",
   "execution_count": 20,
   "metadata": {},
   "outputs": [
    {
     "data": {
      "text/html": [
       "<div>\n",
       "<style scoped>\n",
       "    .dataframe tbody tr th:only-of-type {\n",
       "        vertical-align: middle;\n",
       "    }\n",
       "\n",
       "    .dataframe tbody tr th {\n",
       "        vertical-align: top;\n",
       "    }\n",
       "\n",
       "    .dataframe thead th {\n",
       "        text-align: right;\n",
       "    }\n",
       "</style>\n",
       "<table border=\"1\" class=\"dataframe\">\n",
       "  <thead>\n",
       "    <tr style=\"text-align: right;\">\n",
       "      <th></th>\n",
       "      <th>0</th>\n",
       "    </tr>\n",
       "  </thead>\n",
       "  <tbody>\n",
       "    <tr>\n",
       "      <th>0</th>\n",
       "      <td>1</td>\n",
       "    </tr>\n",
       "    <tr>\n",
       "      <th>1</th>\n",
       "      <td>1</td>\n",
       "    </tr>\n",
       "    <tr>\n",
       "      <th>2</th>\n",
       "      <td>1</td>\n",
       "    </tr>\n",
       "    <tr>\n",
       "      <th>3</th>\n",
       "      <td>1</td>\n",
       "    </tr>\n",
       "    <tr>\n",
       "      <th>4</th>\n",
       "      <td>1</td>\n",
       "    </tr>\n",
       "    <tr>\n",
       "      <th>...</th>\n",
       "      <td>...</td>\n",
       "    </tr>\n",
       "    <tr>\n",
       "      <th>2495</th>\n",
       "      <td>0</td>\n",
       "    </tr>\n",
       "    <tr>\n",
       "      <th>2496</th>\n",
       "      <td>1</td>\n",
       "    </tr>\n",
       "    <tr>\n",
       "      <th>2497</th>\n",
       "      <td>1</td>\n",
       "    </tr>\n",
       "    <tr>\n",
       "      <th>2498</th>\n",
       "      <td>1</td>\n",
       "    </tr>\n",
       "    <tr>\n",
       "      <th>2499</th>\n",
       "      <td>1</td>\n",
       "    </tr>\n",
       "  </tbody>\n",
       "</table>\n",
       "<p>2500 rows × 1 columns</p>\n",
       "</div>"
      ],
      "text/plain": [
       "      0\n",
       "0     1\n",
       "1     1\n",
       "2     1\n",
       "3     1\n",
       "4     1\n",
       "...  ..\n",
       "2495  0\n",
       "2496  1\n",
       "2497  1\n",
       "2498  1\n",
       "2499  1\n",
       "\n",
       "[2500 rows x 1 columns]"
      ]
     },
     "execution_count": 20,
     "metadata": {},
     "output_type": "execute_result"
    }
   ],
   "source": [
    "pred_fine"
   ]
  },
  {
   "cell_type": "code",
   "execution_count": null,
   "metadata": {},
   "outputs": [],
   "source": [
    "pred_fine.to_csv('prep_dataset.csv', index=False, encoding='utf-8')"
   ]
  }
 ],
 "metadata": {
  "kernelspec": {
   "display_name": "Python 3",
   "language": "python",
   "name": "python3"
  },
  "language_info": {
   "codemirror_mode": {
    "name": "ipython",
    "version": 3
   },
   "file_extension": ".py",
   "mimetype": "text/x-python",
   "name": "python",
   "nbconvert_exporter": "python",
   "pygments_lexer": "ipython3",
   "version": "3.7.6"
  }
 },
 "nbformat": 4,
 "nbformat_minor": 4
}
